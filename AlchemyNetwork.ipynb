{
 "cells": [
  {
   "cell_type": "markdown",
   "id": "f6f8b4b8-f644-4125-86c3-3261052954e0",
   "metadata": {},
   "source": [
    "Import the modules used and define the global variables used through the script"
   ]
  },
  {
   "cell_type": "code",
   "execution_count": 1,
   "id": "501aab11-1b06-4976-a3bd-114fa263a100",
   "metadata": {},
   "outputs": [],
   "source": [
    "import os\n",
    "import json\n",
    "from pyvis.network import Network"
   ]
  },
  {
   "cell_type": "code",
   "execution_count": 2,
   "id": "a76533c3-49f5-4449-b618-8d31a6c0d439",
   "metadata": {},
   "outputs": [],
   "source": [
    "# G = Network(notebook=True)\n",
    "G = Network(width=\"100%\", height=\"90%\", heading=\"The relationship between Ingredients and Effects.\")\n",
    "\n",
    "items = set()\n",
    "effects = set()\n",
    "connections = []"
   ]
  },
  {
   "cell_type": "markdown",
   "id": "4d51f3b9-d8da-40ce-80c7-bdccd2ec3496",
   "metadata": {},
   "source": [
    "Create the functions `format_name` and `list_stuff`, the latter which is used to read the data contained within each recipe file and add the data to the global variables, which are later used to create Nodes and Connections."
   ]
  },
  {
   "cell_type": "code",
   "execution_count": 3,
   "id": "e64a6cc3-7cdd-4f45-a087-0f9a4643fd3a",
   "metadata": {},
   "outputs": [],
   "source": [
    "def format_name(string):\n",
    "    return string.split(\":\")[-1].replace(\"_\", \" \").replace(\"-\", \" \").title()"
   ]
  },
  {
   "cell_type": "code",
   "execution_count": 4,
   "id": "ff83b4ef-95ea-4e19-af3a-d83b9322107c",
   "metadata": {},
   "outputs": [],
   "source": [
    "def list_stuff(filepath):\n",
    "    with open(filepath, \"r\") as file:\n",
    "        data = json.load(file)\n",
    "\n",
    "    item_name = format_name(data[\"item\"])\n",
    "    items.add(item_name)\n",
    "\n",
    "    for effect in data[\"effects\"]:\n",
    "        effect_name = format_name(effect[\"effect\"])\n",
    "        intensity = effect[\"strength\"]\n",
    "        effects.add(effect_name)\n",
    "        connections.append((item_name, effect_name, intensity))"
   ]
  },
  {
   "cell_type": "markdown",
   "id": "15fedacf-dde8-4a3d-9007-16465b882a06",
   "metadata": {},
   "source": [
    "Walk through the recipes folders"
   ]
  },
  {
   "cell_type": "code",
   "execution_count": 5,
   "id": "c9fe250c-f35b-46be-a717-236275f09209",
   "metadata": {},
   "outputs": [],
   "source": [
    "for root, _, files in os.walk(\"alchemy_ingredients\"):\n",
    "    for file in files:\n",
    "        if file[-5:] == \".json\":\n",
    "            list_stuff(root+\"\\\\\"+file)"
   ]
  },
  {
   "cell_type": "markdown",
   "id": "771142a6-c6bb-4fad-bfd1-5ac0ac593e9f",
   "metadata": {},
   "source": [
    "Create the nodes and connections from the data gathered from the files previously"
   ]
  },
  {
   "cell_type": "code",
   "execution_count": 6,
   "id": "68d4be00-34dc-4c34-af77-287efca3be14",
   "metadata": {},
   "outputs": [],
   "source": [
    "G.add_nodes(list(items), color=[\"teal\"]*len(items), size=[10]*len(items))\n",
    "G.add_nodes(list(effects), color=[\"purple\"]*len(effects), size=[10]*len(effects))\n",
    "for edge in connections:\n",
    "    G.add_edge(edge[0], edge[1], width=edge[2], title=edge[2])"
   ]
  },
  {
   "cell_type": "markdown",
   "id": "aaed9ded-e87e-4509-827b-ffbe849b2f41",
   "metadata": {},
   "source": [
    "Create the Graphic"
   ]
  },
  {
   "cell_type": "code",
   "execution_count": 7,
   "id": "28904753-ae02-4f1d-a4a1-258d33ecdd45",
   "metadata": {},
   "outputs": [],
   "source": [
    "G.repulsion(node_distance=160, spring_length=130)\n",
    "G.save_graph(\"index.html\")"
   ]
  }
 ],
 "metadata": {
  "kernelspec": {
   "display_name": "Python 3 (ipykernel)",
   "language": "python",
   "name": "python3"
  },
  "language_info": {
   "codemirror_mode": {
    "name": "ipython",
    "version": 3
   },
   "file_extension": ".py",
   "mimetype": "text/x-python",
   "name": "python",
   "nbconvert_exporter": "python",
   "pygments_lexer": "ipython3",
   "version": "3.9.6"
  }
 },
 "nbformat": 4,
 "nbformat_minor": 5
}
